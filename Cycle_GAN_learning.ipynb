{
  "nbformat": 4,
  "nbformat_minor": 0,
  "metadata": {
    "colab": {
      "provenance": []
    },
    "kernelspec": {
      "name": "python3",
      "display_name": "Python 3"
    },
    "language_info": {
      "name": "python"
    }
  },
  "cells": [
    {
      "cell_type": "markdown",
      "source": [
        "# Getting started"
      ],
      "metadata": {
        "id": "ubgGIYwpzSre"
      }
    },
    {
      "cell_type": "markdown",
      "source": [
        "Getting started"
      ],
      "metadata": {
        "id": "cqrtHoYrymye"
      }
    },
    {
      "cell_type": "code",
      "execution_count": 1,
      "metadata": {
        "colab": {
          "base_uri": "https://localhost:8080/"
        },
        "id": "yuox7o8bxqjb",
        "outputId": "4a738d28-509b-4ed9-8a39-eb91465f1c1c"
      },
      "outputs": [
        {
          "output_type": "stream",
          "name": "stdout",
          "text": [
            "2.1.0+cu118\n"
          ]
        }
      ],
      "source": [
        "import torch #check if PyTorch is already installed and its version\n",
        "print(torch.__version__)"
      ]
    },
    {
      "cell_type": "code",
      "source": [
        "try:\n",
        "  import nngraph\n",
        "  print(\"nngraph is installed\")\n",
        "except ImportError:\n",
        "  print(\"nngraph is not installed\")"
      ],
      "metadata": {
        "colab": {
          "base_uri": "https://localhost:8080/"
        },
        "id": "3xQFlJmEyf0G",
        "outputId": "9bcd62be-bb00-4062-f8e8-6fdbe8a43be2"
      },
      "execution_count": 2,
      "outputs": [
        {
          "output_type": "stream",
          "name": "stdout",
          "text": [
            "nngraph is not installed\n"
          ]
        }
      ]
    },
    {
      "cell_type": "code",
      "source": [
        "# Install Lua 5.1\n",
        "!apt-get install lua5.1"
      ],
      "metadata": {
        "colab": {
          "base_uri": "https://localhost:8080/"
        },
        "id": "jfSD_hGkzRVz",
        "outputId": "f04dbb05-4e2b-476c-f857-b62bc7b9d31c"
      },
      "execution_count": 9,
      "outputs": [
        {
          "output_type": "stream",
          "name": "stdout",
          "text": [
            "Reading package lists... Done\n",
            "Building dependency tree... Done\n",
            "Reading state information... Done\n",
            "lua5.1 is already the newest version (5.1.5-8.1build4).\n",
            "0 upgraded, 0 newly installed, 0 to remove and 6 not upgraded.\n"
          ]
        }
      ]
    },
    {
      "cell_type": "code",
      "source": [
        "!apt-get install luarocks\n",
        "# install luarocks"
      ],
      "metadata": {
        "colab": {
          "base_uri": "https://localhost:8080/"
        },
        "id": "quiUXWiY2GDn",
        "outputId": "96033465-3d45-4c79-aabc-3a07c6425405"
      },
      "execution_count": 10,
      "outputs": [
        {
          "output_type": "stream",
          "name": "stdout",
          "text": [
            "Reading package lists... Done\n",
            "Building dependency tree... Done\n",
            "Reading state information... Done\n",
            "luarocks is already the newest version (3.8.0+dfsg1-1).\n",
            "0 upgraded, 0 newly installed, 0 to remove and 6 not upgraded.\n"
          ]
        }
      ]
    },
    {
      "cell_type": "code",
      "source": [
        "!luarocks install nngraph"
      ],
      "metadata": {
        "colab": {
          "base_uri": "https://localhost:8080/"
        },
        "id": "VQ550j6g2OYW",
        "outputId": "ce680b7e-9edd-437a-eead-69c309142b4a"
      },
      "execution_count": 11,
      "outputs": [
        {
          "output_type": "stream",
          "name": "stdout",
          "text": [
            "\n",
            "Error: No results matching query were found for Lua 5.1.\n",
            "To check if it is available for other Lua versions, use --check-lua-versions.\n"
          ]
        }
      ]
    },
    {
      "cell_type": "code",
      "source": [
        "!luarocks install nngraph --check-lua-versions"
      ],
      "metadata": {
        "colab": {
          "base_uri": "https://localhost:8080/"
        },
        "id": "2yYN3LS60Sgw",
        "outputId": "683e2b76-52d3-416e-c7d1-6c2902303939"
      },
      "execution_count": 5,
      "outputs": [
        {
          "output_type": "stream",
          "name": "stdout",
          "text": [
            "nngraph not found for Lua 5.1.\n",
            "Checking if available for other Lua versions...\n",
            "Checking for Lua 5.2...\n",
            "Checking for Lua 5.3...\n",
            "Checking for Lua 5.4...\n",
            "\n",
            "Error: No results matching query were found for Lua 5.1.\n",
            "nngraph is not available for any Lua versions.\n"
          ]
        }
      ]
    }
  ]
}